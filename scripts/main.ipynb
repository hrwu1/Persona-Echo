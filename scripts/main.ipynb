{
 "cells": [
  {
   "cell_type": "code",
   "execution_count": null,
   "id": "e7700613",
   "metadata": {},
   "outputs": [],
   "source": [
    "!pip install https://download.pytorch.org/whl/cu121/torch-2.3.1%2Bcu121-cp311-cp311-win_amd64.whl"
   ]
  },
  {
   "cell_type": "code",
   "execution_count": null,
   "id": "543e05f9-7cb4-43d2-b22c-d87d59a89113",
   "metadata": {
    "scrolled": true
   },
   "outputs": [],
   "source": [
    "!pip install transformers==4.46.3 peft datasets bitsandbytes sentence_transformers chromadb langchain autoawq"
   ]
  },
  {
   "cell_type": "code",
   "execution_count": null,
   "id": "e32ad0aa",
   "metadata": {},
   "outputs": [],
   "source": [
    "!pip install emoji openai"
   ]
  },
  {
   "cell_type": "code",
   "execution_count": 1,
   "id": "4b41a48f",
   "metadata": {},
   "outputs": [],
   "source": [
    "import os\n",
    "import sys\n",
    "\n",
    "notebook_dir = os.getcwd()\n",
    "sys.path.append(os.path.abspath(os.path.join(notebook_dir, \"..\")))"
   ]
  },
  {
   "cell_type": "code",
   "execution_count": null,
   "id": "590274b7",
   "metadata": {},
   "outputs": [],
   "source": [
    "from src.data.data_process import DataProcessor\n",
    "\n",
    "data_processor = DataProcessor()\n",
    "data_processor.run()\n"
   ]
  },
  {
   "cell_type": "code",
   "execution_count": null,
   "id": "ad9b02e3",
   "metadata": {},
   "outputs": [],
   "source": [
    "from src.memory.memory_extractor_api import ChatMemoryExtractor\n",
    "\n",
    "extractor = ChatMemoryExtractor()\n",
    "extractor.extract_memories()\n"
   ]
  },
  {
   "cell_type": "code",
   "execution_count": null,
   "id": "4070564b",
   "metadata": {},
   "outputs": [],
   "source": [
    "from src.memory.rag_system import RAGSystem\n",
    "# Initialize RAG system for demonstration\n",
    "rag_demo = RAGSystem()\n",
    "rag_demo.ingest_memories_csv()"
   ]
  },
  {
   "cell_type": "code",
   "execution_count": null,
   "id": "81b286bc-bb35-4521-b759-9a89b5942b25",
   "metadata": {},
   "outputs": [],
   "source": [
    "\n",
    "from src.lora.finetune_lora import LoRAFinetuner\n",
    "\n",
    "finetuner = LoRAFinetuner()\n",
    "finetuner.run_finetuning_pipeline()\n"
   ]
  },
  {
   "cell_type": "code",
   "execution_count": null,
   "id": "5687f14a-f0fa-473f-b5f6-1494522d3a69",
   "metadata": {},
   "outputs": [],
   "source": [
    "from src.lora.query_rag import PersonaChat\n",
    "\n",
    "chat = PersonaChat()\n",
    "chat.run_chat_loop()\n"
   ]
  }
 ],
 "metadata": {
  "kernelspec": {
   "display_name": "TestPersonaEcho",
   "language": "python",
   "name": "python3"
  },
  "language_info": {
   "codemirror_mode": {
    "name": "ipython",
    "version": 3
   },
   "file_extension": ".py",
   "mimetype": "text/x-python",
   "name": "python",
   "nbconvert_exporter": "python",
   "pygments_lexer": "ipython3",
   "version": "3.11.12"
  }
 },
 "nbformat": 4,
 "nbformat_minor": 5
}
